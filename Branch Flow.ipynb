{
 "cells": [
  {
   "cell_type": "markdown",
   "metadata": {},
   "source": [
    "### Maintain type of branches\n",
    "<ul>\n",
    "<li>\n",
    "    <b>Local Branch:</b> this branch is for the developement by <b>Individual contributer</b> \n",
    "                        the branch name begins with your name then topic <br> \n",
    "                        for example <b>name_topicname</b>\n",
    "                                    \n",
    "                        melwin_scd1\n",
    "</li>\n",
    "<li><b>Feature Branches:</b> this branch is for merging the code from all the local branch to the feature\n",
    "                                the branch name begins with <b>feature_</b> \n",
    "                                for example <b>feature_topicname</b>\n",
    "    \n",
    "                             feature_pahse1\n",
    "<p><b>Note:</b>Review must be done by at least one contributor </p><br>\n",
    "</li>\n",
    "<li><b>Production:</b> finally working code will be pushed to the Production from the feature Branch\n",
    "<p><b>Note:</b>Review must be done by at least one contributor </p>\n",
    "</li>\n",
    "</ul>\n"
   ]
  }
 ],
 "metadata": {
  "kernelspec": {
   "display_name": "Python 3",
   "language": "python",
   "name": "python3"
  },
  "language_info": {
   "codemirror_mode": {
    "name": "ipython",
    "version": 3
   },
   "file_extension": ".py",
   "mimetype": "text/x-python",
   "name": "python",
   "nbconvert_exporter": "python",
   "pygments_lexer": "ipython3",
   "version": "3.8.10"
  }
 },
 "nbformat": 4,
 "nbformat_minor": 4
}
